{
 "cells": [
  {
   "cell_type": "markdown",
   "id": "e7daf569",
   "metadata": {},
   "source": [
    "# Praktikum 05 - Jupyter Notebooks und Pandas\n",
    "## Einstieg\n",
    "\n",
    "### Führen Sie die folgenden Code-Blöcke nacheinander aus "
   ]
  },
  {
   "cell_type": "code",
   "execution_count": null,
   "id": "5524fc22",
   "metadata": {},
   "outputs": [],
   "source": [
    "my_list = [4, 7, 6, 12, 1]"
   ]
  },
  {
   "cell_type": "code",
   "execution_count": null,
   "id": "46a7b261",
   "metadata": {},
   "outputs": [],
   "source": [
    "my_list.append(11)"
   ]
  },
  {
   "cell_type": "code",
   "execution_count": null,
   "id": "327b219f",
   "metadata": {},
   "outputs": [],
   "source": [
    "my_list.sort()"
   ]
  },
  {
   "cell_type": "code",
   "execution_count": null,
   "id": "d041abcc",
   "metadata": {},
   "outputs": [],
   "source": [
    "print(my_list)  # my_list"
   ]
  },
  {
   "cell_type": "markdown",
   "id": "0d1c7a10",
   "metadata": {},
   "source": [
    "### Ergänzen Sie weitere Code-Blöcke und führen Sie beliebige Operationen mit `my_list` aus"
   ]
  },
  {
   "cell_type": "code",
   "execution_count": null,
   "id": "1deacd96",
   "metadata": {},
   "outputs": [],
   "source": []
  },
  {
   "cell_type": "markdown",
   "id": "2b42312d",
   "metadata": {},
   "source": [
    "## Pandas"
   ]
  },
  {
   "cell_type": "markdown",
   "id": "15cf5cfc",
   "metadata": {},
   "source": [
    "Das zentrale Element von Pandas heißt **DataFrame**. In diesem Praktikum werden wir mit zwei Datensätzen in Form von .csv-Dateien arbeiten. Diese können von Pandas eingelesen und direkt in einem DataFrame-Objekt gespeichert werden. Vorab werden keine Informationen über die Datensätze preisgegeben. Sie werden die Datensätze untersuchen."
   ]
  },
  {
   "cell_type": "markdown",
   "id": "b6c7f9b4",
   "metadata": {},
   "source": [
    "### Netflix Datensatz"
   ]
  },
  {
   "cell_type": "code",
   "execution_count": null,
   "id": "0fe05726",
   "metadata": {},
   "outputs": [],
   "source": [
    "import pandas as pd\n",
    "import numpy as np\n",
    "import os"
   ]
  },
  {
   "cell_type": "code",
   "execution_count": null,
   "id": "a9a381d5",
   "metadata": {},
   "outputs": [],
   "source": [
    "root = os.getcwd()\n",
    "filename = os.path.join(root, \"NetflixOriginals.csv\")  # je nach eigenem Pfad anpassen!\n",
    "data = pd.read_csv(filename, sep=\",\", encoding=\"ANSI\")"
   ]
  },
  {
   "cell_type": "markdown",
   "id": "3b99d4dd",
   "metadata": {},
   "source": [
    "`data`ist nun ein DataFrame-Objekt, welches wir untersuchen können\n",
    "\n",
    "#### 1. Überblick verschaffen\n",
    "\n",
    "Nutzen Sie folgende Funktionen, um Informationen zum Datensatz zu erhalten.\n",
    "- `data.head()`\n",
    "- `data.shape`\n",
    "- `data.info()`\n",
    "- `data.describe()`\n",
    "\n",
    "1. Wie viele Filme sind im Datenset?\n",
    "2. Welche Spalten gibt es und was finden wir darin?\n",
    "3. Wieviele numerische Spalten gibt es?\n",
    "4. Welche durchschnittliche Laufzeit haben die Filme?\n",
    "5. Was ist der höchste IMDB-Score aus dem Datensatz?"
   ]
  },
  {
   "cell_type": "code",
   "execution_count": null,
   "id": "f7371655",
   "metadata": {},
   "outputs": [],
   "source": []
  },
  {
   "cell_type": "markdown",
   "id": "b6109cee",
   "metadata": {},
   "source": [
    "#### 2. Weitere Untersuchungen\n",
    "1. Lassen Sie sich alle *unterschiedlichen* Genres aus dem Datensatz ausgeben \n",
    "2. Wieviele unterschiedliche Genres sind im Datensatz gelistet?\n",
    "3. Welche 20 Genres treten am häufigsten auf?\n",
    "4. Geben Sie die Top20 durch Indexierung an\n",
    "5. Sortieren Sie die Daten von langer zu kurzer Laufzeit der Filme\n",
    "6. Geben Sie nur die Filme aus, dessen Laufzeit länger als 150 ist\n"
   ]
  },
  {
   "cell_type": "code",
   "execution_count": null,
   "id": "2d3b2387",
   "metadata": {},
   "outputs": [],
   "source": []
  },
  {
   "cell_type": "markdown",
   "id": "72c693bd",
   "metadata": {},
   "source": [
    "### Pokemon Datensatz"
   ]
  },
  {
   "cell_type": "code",
   "execution_count": null,
   "id": "88b004f4",
   "metadata": {},
   "outputs": [],
   "source": [
    "import pandas as pd\n",
    "import numpy as np\n",
    "import os"
   ]
  },
  {
   "cell_type": "code",
   "execution_count": null,
   "id": "da7174e7",
   "metadata": {},
   "outputs": [],
   "source": [
    "root = os.getcwd()\n",
    "filename = os.path.join(root, \"pokemon.csv\")  # je nach eigenem Pfad anpassen!\n",
    "data = pd.read_csv(filename, sep=\",\", encoding=\"utf-8\")\n",
    "# UTF-8 notwendig um die Japanischen Namen zu lesen, Ansonsten klappt auch ANSI"
   ]
  },
  {
   "cell_type": "markdown",
   "id": "70c1ce7e",
   "metadata": {},
   "source": [
    "In diesem Teil untersuchen wir nur einen Teil des Datensatzes. Dafür treffen wir vorab eine Auswahl an Spalten. Wenn wir die Strings unserer Spaltenwahl in einer Liste speichern und den ursprünglichen Datensatz damit indexieren, erhalten wir ein neues spezifiziertes DataFrame. Bitte ändern Sie die vorgegebene Auswahl nicht."
   ]
  },
  {
   "cell_type": "code",
   "execution_count": null,
   "id": "a2ae0be8",
   "metadata": {},
   "outputs": [],
   "source": [
    "cols = ['name', 'type1', 'type2', 'speed', 'abilities','attack',\n",
    "           'defense', 'height_m', 'hp', 'weight_kg',\n",
    "           'generation', 'is_legendary']\n",
    "data_selected = data[cols]"
   ]
  },
  {
   "cell_type": "markdown",
   "id": "0826cf21",
   "metadata": {},
   "source": [
    "#### 1. Überblick verschaffen\n",
    "\n",
    "Nutzen Sie folgende Funktionen, um Informationen zum Datensatz zu erhalten.\n",
    "- `data_selected.head()`\n",
    "- `data_selected.shape`\n",
    "- `data_selected.info()`\n",
    "- `data_selected.describe()`\n",
    "\n",
    "Alle Fragen sind auf `data_selected` zu beziehen:\n",
    "\n",
    "1. Wie viele Pokemon sind im Datenset?\n",
    "2. Welche Spalten gibt es und was finden wir darin?\n",
    "3. Wieviele numerische Spalten gibt es?\n",
    "4. Wie hoch ist die durchschnittliche Angriffspunktzahl aller Pokemon?\n",
    "5. Was ist der höchste Verteidigungswert im Datensatz?\n",
    "6. Gibt es fehlende Einträge im Datensatz?"
   ]
  },
  {
   "cell_type": "code",
   "execution_count": null,
   "id": "bd635557",
   "metadata": {},
   "outputs": [],
   "source": []
  },
  {
   "cell_type": "markdown",
   "id": "6eca4818",
   "metadata": {},
   "source": [
    "#### 2. Weitere Untersuchungen\n",
    "1. Schauen Sie sich die fünfte bis zur neunten Zeile der Daten an. Was könnte problematisch sein?\n",
    "2. Ersetzen Sie die problematischen Einträge durch den String \"unkown\" und schauen Sie sich die Daten nochmal an.\n",
    "3. Wieviele Pokemon gibt es in der ersten Generation?\n",
    "4. Lassen Sie sich die unterschiedlichen `type1`-Typen der Pokemon ausgeben\n",
    "5. Wieviele Pokemon gibt es in den unterschiedlichen `type1`-Typen?\n",
    "6. Erstellen Sie zwei DataFrames `bug_only`und `grass_only`und geben Sie die jeweiligen Mittelwerte für die Angriffsstärke an.\n",
    "7. Lassen Sie sich alle Mittelwerte in Bezug auf `type1` durch Nutzung der `groupby`-Methode ausgeben. In welchem Zusammenhang steht diese Vorgehensweise zur vorherigen Aufgabe?"
   ]
  },
  {
   "cell_type": "code",
   "execution_count": null,
   "id": "cc59effd",
   "metadata": {
    "scrolled": false
   },
   "outputs": [],
   "source": []
  }
 ],
 "metadata": {
  "kernelspec": {
   "display_name": "Python 3 (ipykernel)",
   "language": "python",
   "name": "python3"
  },
  "language_info": {
   "codemirror_mode": {
    "name": "ipython",
    "version": 3
   },
   "file_extension": ".py",
   "mimetype": "text/x-python",
   "name": "python",
   "nbconvert_exporter": "python",
   "pygments_lexer": "ipython3",
   "version": "3.9.7"
  }
 },
 "nbformat": 4,
 "nbformat_minor": 5
}
